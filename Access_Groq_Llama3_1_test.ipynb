{
  "nbformat": 4,
  "nbformat_minor": 0,
  "metadata": {
    "colab": {
      "provenance": [],
      "authorship_tag": "ABX9TyNiTYArUklAWV1taTGS8k5k",
      "include_colab_link": true
    },
    "kernelspec": {
      "name": "python3",
      "display_name": "Python 3"
    },
    "language_info": {
      "name": "python"
    }
  },
  "cells": [
    {
      "cell_type": "markdown",
      "metadata": {
        "id": "view-in-github",
        "colab_type": "text"
      },
      "source": [
        "<a href=\"https://colab.research.google.com/github/omprakashman/Learning/blob/main/Access_Groq_Llama3_1_test.ipynb\" target=\"_parent\"><img src=\"https://colab.research.google.com/assets/colab-badge.svg\" alt=\"Open In Colab\"/></a>"
      ]
    },
    {
      "cell_type": "code",
      "execution_count": 25,
      "metadata": {
        "id": "LNAGfWX1MuAa"
      },
      "outputs": [],
      "source": []
    },
    {
      "cell_type": "code",
      "source": [
        "!pip install -q groq"
      ],
      "metadata": {
        "id": "1U8AKBoSNKqP"
      },
      "execution_count": 26,
      "outputs": []
    },
    {
      "cell_type": "code",
      "source": [
        "from google.colab import userdata"
      ],
      "metadata": {
        "id": "cYC5pXGZSOf2"
      },
      "execution_count": 27,
      "outputs": []
    },
    {
      "cell_type": "code",
      "source": [
        "import os"
      ],
      "metadata": {
        "id": "ENBXIJxrR_P_"
      },
      "execution_count": 28,
      "outputs": []
    },
    {
      "cell_type": "code",
      "source": [
        "from groq import Groq"
      ],
      "metadata": {
        "id": "dh_bvJL4SCLu"
      },
      "execution_count": 29,
      "outputs": []
    },
    {
      "cell_type": "code",
      "source": [
        "client = Groq(api_key=userdata.get('GROQ_API_KEY'))\n",
        "infox = 'how to make a coffee'"
      ],
      "metadata": {
        "id": "D7EJSnRXSJHo"
      },
      "execution_count": 30,
      "outputs": []
    },
    {
      "cell_type": "code",
      "source": [
        "# @title Default title text\n",
        "infox = input(\"Me  \")\n"
      ],
      "metadata": {
        "id": "n06sMPp2Z8lK",
        "colab": {
          "base_uri": "https://localhost:8080/"
        },
        "outputId": "f31dc393-a8a2-4928-8f55-d6d55e715c08"
      },
      "execution_count": 31,
      "outputs": [
        {
          "name": "stdout",
          "output_type": "stream",
          "text": [
            "Me  what is you LLM model name ?\n"
          ]
        }
      ]
    },
    {
      "cell_type": "code",
      "source": [
        "chat_completion = client.chat.completions.create(\n",
        "    messages = [\n",
        "        {\"role\" : \"user\",\n",
        "    ##     \"content\" : \"what is the capital of india \"}\n",
        "         \"content\" : infox}\n",
        "\n",
        "    ],\n",
        "    # model = \"llama3-70b-8192\"\n",
        "    ## Latest Meta model\n",
        "    model = \"llama-3.1-70b-versatile\"\n",
        ")\n",
        "\n",
        "print (chat_completion.choices[0].message.content)"
      ],
      "metadata": {
        "id": "ZpRYZZiqT9DD",
        "colab": {
          "base_uri": "https://localhost:8080/"
        },
        "outputId": "2eb7dca4-38e3-4105-932a-b1cfd66b0b0e"
      },
      "execution_count": 32,
      "outputs": [
        {
          "output_type": "stream",
          "name": "stdout",
          "text": [
            "I am an LLM (Large Language Model) named Llama.\n"
          ]
        }
      ]
    }
  ]
}