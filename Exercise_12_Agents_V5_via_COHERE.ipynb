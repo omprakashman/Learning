{
  "cells": [
    {
      "cell_type": "markdown",
      "metadata": {
        "id": "view-in-github",
        "colab_type": "text"
      },
      "source": [
        "<a href=\"https://colab.research.google.com/github/omprakashman/Learning/blob/main/Exercise_12_Agents_V5_via_COHERE.ipynb\" target=\"_parent\"><img src=\"https://colab.research.google.com/assets/colab-badge.svg\" alt=\"Open In Colab\"/></a>"
      ]
    },
    {
      "cell_type": "markdown",
      "metadata": {
        "id": "p5e01IVrNOJa"
      },
      "source": [
        "#Packages"
      ]
    },
    {
      "cell_type": "code",
      "execution_count": null,
      "metadata": {
        "id": "9yrQYthRHdCc"
      },
      "outputs": [],
      "source": [
        "\n",
        "\n",
        "!pip install openai --quiet\n",
        "!pip install langchain --quiet\n",
        "!pip install cohere --quiet\n",
        "!pip install tiktoken --quiet\n",
        "!pip install wikipedia\n",
        "!pip install serp\n",
        "!pip install google-search-results\n",
        "!pip install arxiv\n",
        "!pip install langchain_experimental\n",
        "!pip install langchain_community --quiet\n"
      ]
    },
    {
      "cell_type": "code",
      "execution_count": 2,
      "metadata": {
        "id": "avmSGeLcHz9d",
        "colab": {
          "base_uri": "https://localhost:8080/"
        },
        "outputId": "1794589a-98dc-49be-9e87-d171c684a9a1"
      },
      "outputs": [
        {
          "output_type": "stream",
          "name": "stderr",
          "text": [
            "/usr/local/lib/python3.10/dist-packages/pydantic/_internal/_config.py:341: UserWarning: Valid config keys have changed in V2:\n",
            "* 'allow_population_by_field_name' has been renamed to 'populate_by_name'\n",
            "* 'smart_union' has been removed\n",
            "  warnings.warn(message, UserWarning)\n"
          ]
        }
      ],
      "source": [
        "import os\n",
        "import cohere # Import the cohere module\n",
        "\n",
        "from google.colab import userdata\n",
        "\n",
        "\n",
        "#os.environ['OPENAI_API_KEY'] = userdata.get('OMKEY')\n",
        "os.environ['COHERE_API_KEY'] = userdata.get(\"OMCOHERE\")\n",
        "\n",
        "# Initialize the Cohere LLM with your API key\n",
        "cohere_api = cohere.Client('OMCOHERE')\n",
        "\n"
      ]
    },
    {
      "cell_type": "code",
      "execution_count": 3,
      "metadata": {
        "id": "FGNwlcWZH0Hw"
      },
      "outputs": [],
      "source": [
        "from langchain.agents import load_tools\n",
        "from langchain.agents import initialize_agent\n",
        "from langchain.agents import AgentType\n",
        "from langchain.llms import OpenAI, Cohere\n",
        "from langchain.chat_models import ChatOpenAI"
      ]
    },
    {
      "cell_type": "markdown",
      "metadata": {
        "id": "sko6ltPmo7s9"
      },
      "source": [
        "# Agent Example"
      ]
    },
    {
      "cell_type": "code",
      "execution_count": 8,
      "metadata": {
        "id": "ztFH7VkGH0No",
        "colab": {
          "base_uri": "https://localhost:8080/"
        },
        "outputId": "f482fed8-09d8-4e8e-886a-af3ede44e5b6"
      },
      "outputs": [
        {
          "output_type": "stream",
          "name": "stdout",
          "text": [
            "Kamal Haasan's 100th movie is \"Vikram.\"\n"
          ]
        }
      ],
      "source": [
        "# Initialize the Cohere client\n",
        "cohere_client = cohere.Client(os.environ['COHERE_API_KEY'])\n",
        "\n",
        "# Select the desired model\n",
        "model = \"command-xlarge-nightly\"  # Replace with the actual model name\n",
        "\n",
        "# Generate a response (example)\n",
        "prompt = \"What is Kamal hassans 100th    movie\"\n",
        "response = cohere_client.generate(\n",
        "    model=model,\n",
        "    prompt=prompt,\n",
        "    max_tokens=30,\n",
        "    temperature=0.5,\n",
        "    k=0,\n",
        "    p=0.65,\n",
        "    frequency_penalty=0,\n",
        "    presence_penalty=0,\n",
        "    stop_sequences=[],\n",
        "    return_likelihoods='NONE')\n",
        "\n",
        "print(response.generations[0].text)  # Print the generated text"
      ]
    }
  ],
  "metadata": {
    "colab": {
      "provenance": [],
      "include_colab_link": true
    },
    "kernelspec": {
      "display_name": "Python 3",
      "name": "python3"
    },
    "language_info": {
      "name": "python"
    }
  },
  "nbformat": 4,
  "nbformat_minor": 0
}